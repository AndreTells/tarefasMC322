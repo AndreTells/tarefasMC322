{
 "cells": [
  {
   "cell_type": "markdown",
   "metadata": {},
   "source": [
    "# Exception"
   ]
  },
  {
   "cell_type": "markdown",
   "metadata": {},
   "source": [
    "# Modelo do Plano de Exceções\n",
    "\n",
    "## Diagrama da hierarquia de exceções\n",
    "\n",
    "![Hierarquia Exceções](Diagrama-da-hierarquia-de-exceções.jpg)\n"
   ]
  },
  {
   "cell_type": "markdown",
   "metadata": {},
   "source": [
    "## Descrição das classes de exceção\n",
    "\n",
    "Classe | Descrição\n",
    "----- | -----\n",
    "ArquivoNaoEncontrado | Indica que o arquivo desejado nao foi encontrado na pasta de assets\n",
    "ArquivoEventosNaoEncontrado | Indica que o arquivo de eventos aleatórios nao foi encontrado na pasta de assets\n",
    "ArquivoModeloNaoEncontrado | Indica que o arquivo de um modelo 3D nao foi encontrado na pasta de assets\n",
    "MouseInvalido | Indica que GLMouse nao foi inicializado\n",
    "AtributoInvalido | Indica que algum dos valores passados na criação de um GLElementComponent é null ou esta fora do escopo do atributo(ex:  altura negativa,...)\n",
    "ComponenteInvalido | Indica que a string passada não referencia um modelo 3d que o jogo tem acesso a \n",
    " \n",
    "\n"
   ]
  },
  {
   "cell_type": "markdown",
   "metadata": {},
   "source": [
    "## Testes da Hierarquia de Exceções"
   ]
  },
  {
   "cell_type": "code",
   "execution_count": 1,
   "metadata": {},
   "outputs": [
    {
     "ename": "SyntaxError",
     "evalue": "invalid syntax (<ipython-input-1-0d918d704be8>, line 1)",
     "output_type": "error",
     "traceback": [
      "\u001b[1;36m  File \u001b[1;32m\"<ipython-input-1-0d918d704be8>\"\u001b[1;36m, line \u001b[1;32m1\u001b[0m\n\u001b[1;33m    public class DivisaoInvalida extends Exception {\u001b[0m\n\u001b[1;37m           ^\u001b[0m\n\u001b[1;31mSyntaxError\u001b[0m\u001b[1;31m:\u001b[0m invalid syntax\n"
     ]
    }
   ],
   "source": [
    "public class ArquivoNaoEncontrado extends RuntimeException {\n",
    "   public ArquivoInvalido() {\n",
    "      super();\n",
    "   }\n",
    "\n",
    "   public ArquivoInvalido(String message) {\n",
    "      super(message);\n",
    "   }\n",
    "}"
   ]
  },
  {
   "cell_type": "code",
   "execution_count": 2,
   "metadata": {},
   "outputs": [
    {
     "data": {
      "text/plain": [
       "com.twosigma.beaker.javash.bkrdb57d720.DivisaoInutil"
      ]
     },
     "execution_count": 2,
     "metadata": {},
     "output_type": "execute_result"
    }
   ],
   "source": [
    "public class ArquivoEventosNaoEncontrado extends ArquivoNaoEncontrado {\n",
    "   public ArquivoEventosNaoEncontrado() {\n",
    "      super();\n",
    "   }\n",
    "\n",
    "   public ArquivoEventosNaoEncontrado(String message) {\n",
    "      super(message);\n",
    "   }\n",
    "}"
   ]
  },
  {
   "cell_type": "code",
   "execution_count": 3,
   "metadata": {},
   "outputs": [
    {
     "data": {
      "text/plain": [
       "com.twosigma.beaker.javash.bkrdb57d720.DivisaoNaoInteira"
      ]
     },
     "execution_count": 3,
     "metadata": {},
     "output_type": "execute_result"
    }
   ],
   "source": [
    "public class ArquivoModeloNaoEncontrado extends ArquivoNaoEncontrado {\n",
    "   public ArquivoModeloNaoEncontrado() {\n",
    "      super();\n",
    "   }\n",
    "\n",
    "   public ArquivoModeloNaoEncontrado(String message) {\n",
    "      super(message);\n",
    "   }\n",
    "}"
   ]
  },
  {
   "cell_type": "code",
   "execution_count": null,
   "metadata": {},
   "outputs": [],
   "source": [
    "public class MouseInvalido extends RuntimeException {\n",
    "   public MouseInvalido() {\n",
    "      super();\n",
    "   }\n",
    "\n",
    "   public MouseInvalido(String message) {\n",
    "      super(message);\n",
    "   }\n",
    "}"
   ]
  },
  {
   "cell_type": "code",
   "execution_count": null,
   "metadata": {},
   "outputs": [],
   "source": [
    "public class ComponenteInvalido extends RuntimeException {\n",
    "   public ComponenteInvalido() {\n",
    "      super();\n",
    "   }\n",
    "\n",
    "   public ComponenteInvalido(String message) {\n",
    "      super(message);\n",
    "   }\n",
    "}"
   ]
  },
  {
   "cell_type": "code",
   "execution_count": null,
   "metadata": {},
   "outputs": [],
   "source": [
    "public class AtributoInvalido extends RuntimeException {\n",
    "   public ComponenteInvalido() {\n",
    "      super();\n",
    "   }\n",
    "\n",
    "   public ComponenteInvalido(String message) {\n",
    "      super(message);\n",
    "   }\n",
    "}"
   ]
  },
  {
   "cell_type": "code",
   "execution_count": null,
   "metadata": {},
   "outputs": [],
   "source": [
    "public class DimensoesInvalidas extends AtributoInvalido {\n",
    "   public DimensoesInvalidas() {\n",
    "      super();\n",
    "   }\n",
    "\n",
    "   public DimensoesInvalidas(String message) {\n",
    "      super(message);\n",
    "   }\n",
    "}"
   ]
  },
  {
   "cell_type": "code",
   "execution_count": null,
   "metadata": {},
   "outputs": [],
   "source": [
    "public class PosicaoInvalida extends AtributoInvalido {\n",
    "   public PosicaoInvalida() {\n",
    "      super();\n",
    "   }\n",
    "\n",
    "   public PosicaoInvalida(String message) {\n",
    "      super(message);\n",
    "   }\n",
    "}"
   ]
  },
  {
   "cell_type": "code",
   "execution_count": null,
   "metadata": {},
   "outputs": [],
   "source": [
    "public class IdInvalido extends AtributoInvalido {\n",
    "   public IdInvalido() {\n",
    "      super();\n",
    "   }\n",
    "\n",
    "   public IdInvalido(String message) {\n",
    "      super(message);\n",
    "   }\n",
    "}"
   ]
  },
  {
   "cell_type": "code",
   "execution_count": null,
   "metadata": {},
   "outputs": [],
   "source": [
    "public class CorInvalida extends AtributoInvalido {\n",
    "   public CorInvalida() {\n",
    "      super();\n",
    "   }\n",
    "\n",
    "   public CorInvalida(String message) {\n",
    "      super(message);\n",
    "   }\n",
    "}"
   ]
  },
  {
   "cell_type": "code",
   "execution_count": null,
   "metadata": {},
   "outputs": [],
   "source": []
  }
 ],
 "metadata": {
  "kernelspec": {
   "display_name": "Python 3",
   "language": "python",
   "name": "python3"
  },
  "language_info": {
   "codemirror_mode": {
    "name": "ipython",
    "version": 3
   },
   "file_extension": ".py",
   "mimetype": "text/x-python",
   "name": "python",
   "nbconvert_exporter": "python",
   "pygments_lexer": "ipython3",
   "version": "3.8.5"
  },
  "toc": {
   "base_numbering": 1,
   "nav_menu": {},
   "number_sections": false,
   "sideBar": false,
   "skip_h1_title": false,
   "title_cell": "Table of Contents",
   "title_sidebar": "Contents",
   "toc_cell": false,
   "toc_position": {},
   "toc_section_display": false,
   "toc_window_display": false
  }
 },
 "nbformat": 4,
 "nbformat_minor": 4
}
